{
 "cells": [
  {
   "cell_type": "markdown",
   "metadata": {},
   "source": [
    "## Wings of butterflies\n",
    "\n",
    "The authors of scientific article on butterfly wing shapes [ 1 ] have made the data on which their analysis is based publicly available [ 2 ]. In this project we will reconstruct those data so that they are ready to be analyzed. \n",
    "\n",
    "The data used by the article's authors is stored as an XLSX file, with records spread over 10 sheets. The aim is to import some of the data from the XLSX file into Python and output a CSV file. \n",
    "\n",
    "\n",
    "[1] Jones, R.T., Poul, Y.L., Whibley, A.C., Mérot, C., ffrench‐Constant, R.H. and Joron, M. (2013), WING SHAPE VARIATION ASSOCIATED WITH MIMICRY IN BUTTERFLIES. Evolution, 67: 2323-2334. <a href = \"doi:10.1111/evo.12114\"> doi:10.1111/evo.12114 </a>\n",
    "\n",
    "[2] <a href = \"https://datadryad.org/stash/dataset/doi:10.5061/dryad.1s15q\"> https://datadryad.org/stash/dataset/doi:10.5061/dryad.1s15q </a> and \"WING paper Data for repository.xlsx\" on JupyterHub."
   ]
  },
  {
   "cell_type": "code",
   "execution_count": 1,
   "metadata": {},
   "outputs": [],
   "source": [
    "import csv\n",
    "import re\n",
    "import matplotlib.pyplot as plt\n",
    "import xlrd"
   ]
  },
  {
   "cell_type": "markdown",
   "metadata": {},
   "source": [
    "### Task 1\n",
    "\n",
    "Implementing the function `load_data`.\n",
    "\n",
    "This function takes an excel filepath as input and returns a dictionary which contains the data from the file. Every sheet and its content in the excel file corresponds to a key value pair in the dictionary. Rows will be encoded as lists of values and therefore a sheet becomes a list of lists."
   ]
  },
  {
   "cell_type": "code",
   "execution_count": 2,
   "metadata": {},
   "outputs": [],
   "source": [
    "def load_data(excel_path):\n",
    "    \"\"\"\n",
    "    Load data from excel file\n",
    "    \n",
    "    Parameters\n",
    "    ----------\n",
    "    excel_path : str\n",
    "        Path to wing paper excel file (.xlsx)\n",
    "    \n",
    "    Returns\n",
    "    -------\n",
    "    data : dictionary of list of lists\n",
    "        Table data from wing paper excel file for all sheets\n",
    "    \"\"\"\n",
    "    \n",
    "    data = {}\n",
    "    # we will use `xlrd` library to read the excel file\n",
    "    wing_data = xlrd.open_workbook(excel_path)\n",
    "    # iterate over sheets\n",
    "    for sheet_name in wing_data.sheet_names():\n",
    "        # get excel sheet\n",
    "        xl_sheet = wing_data.sheet_by_name(sheet_name)\n",
    "        # iterate for each row and column to get the cells\n",
    "        for row_index in range(0, xl_sheet.nrows):\n",
    "            row_object = []\n",
    "            for col_index in range(0, xl_sheet.ncols):\n",
    "                cell_value = xl_sheet.cell(row_index, col_index).value\n",
    "                if isinstance(cell_value, str):\n",
    "                    # check if the number is float but encoded as str\n",
    "                    if cell_value.lstrip('-').replace('.', '', 1).isdigit():\n",
    "                        cell_value = int(cell_value) if float(cell_value).is_integer() else float(cell_value)\n",
    "                elif isinstance(cell_value, float):\n",
    "                    cell_value = int(cell_value) if cell_value.is_integer() else cell_value\n",
    "                row_object.append(cell_value)\n",
    "            # escape empty and description rows\n",
    "            if set(row_object) == {''}:\n",
    "                break\n",
    "            data.setdefault(sheet_name, []).append(row_object)\n",
    "    \n",
    "    return data"
   ]
  },
  {
   "cell_type": "code",
   "execution_count": 3,
   "metadata": {},
   "outputs": [],
   "source": [
    "DATA = load_data(\"WING paper Data for repository.xlsx\")"
   ]
  },
  {
   "cell_type": "code",
   "execution_count": 4,
   "metadata": {},
   "outputs": [],
   "source": [
    "# tests to make sure we have the right data structure\n",
    "assert isinstance(DATA, dict)\n",
    "assert all(isinstance(k, str) and isinstance(v, list) for k, vs in DATA.items() for v in vs)"
   ]
  },
  {
   "cell_type": "markdown",
   "metadata": {},
   "source": [
    "Note that there are columns in some of the sheets that are text format, therefore `xlrd` library importes those as string automatically even though most of them are float numbers. \n",
    "\n",
    "Also, knowing that `xlrd` library automatically converts integer numbers to float (with .0 decimal point), that needed to be handled manually by checking if float number is an integer (using `is_integer()` function)."
   ]
  },
  {
   "cell_type": "markdown",
   "metadata": {},
   "source": [
    "### Task 2\n",
    "\n",
    "Implementing the function `landmark_coordinates_table`.\n",
    "\n",
    "The sheet \"Landmark coordinates\" encodes wing color pattern landmark coordinates in a special format. We need to convert the contents of this sheet into a plain table format. The column headings of this table will be `name, landmark 1 x, landmark 1 y, landmark 2 x, landmark 2 y, ...`. The enumeration of the landmarks corresponds to the position in the list of the special format. The `name` column will contain the name of the organism which the landmarks belong to."
   ]
  },
  {
   "cell_type": "code",
   "execution_count": 5,
   "metadata": {},
   "outputs": [],
   "source": [
    "def landmark_coordinates_table(data):\n",
    "    \"\"\"\n",
    "    Transform landmark coordinates sheet data from special format to table format\n",
    "    \n",
    "    Parameters\n",
    "    ----------\n",
    "    data : dictionary of list of lists\n",
    "        Data loaded from `load_data` function in Task 1\n",
    "    \n",
    "    Returns\n",
    "    -------\n",
    "    output : list of lists\n",
    "        Transformed landmark coordinates from landmark coordinates sheet\n",
    "    \"\"\"\n",
    "    \n",
    "    output = []\n",
    "    # creating the header\n",
    "    landmark_data = data['Landmark coordinates']\n",
    "    column_names = ['name']\n",
    "    for i in range(1, 21):\n",
    "        column_names.extend([\"landmark %d x\" % i, \"landmark %d y\" % i])\n",
    "    # creating the body\n",
    "    row_data = []\n",
    "    row = []\n",
    "    for item in landmark_data:\n",
    "        if isinstance(item[0], str):\n",
    "            if item[0] == \"LM=20\" or item[0].startswith(\"ID\"):\n",
    "                continue\n",
    "            else:\n",
    "                # getting name from IMAGE\n",
    "                row.insert(0, int(item[0].split('.')[1].split(\"-\")[0]))\n",
    "                row_data.extend([row])\n",
    "                row = []\n",
    "        else:\n",
    "            row.extend(item)\n",
    "    \n",
    "    output.append(column_names)\n",
    "    output.extend(row_data)\n",
    "    \n",
    "    return output"
   ]
  },
  {
   "cell_type": "code",
   "execution_count": 6,
   "metadata": {},
   "outputs": [],
   "source": [
    "DATA[\"Landmark coordinates\"] = landmark_coordinates_table(DATA)"
   ]
  },
  {
   "cell_type": "markdown",
   "metadata": {},
   "source": [
    "Note that landmark coordinates have the landmark names encoded into the IMAGE name, after the coordinates, therefore the name of the landmark was collected by splitting up the IMAGE name for each row."
   ]
  },
  {
   "cell_type": "markdown",
   "metadata": {},
   "source": [
    "### Task 3\n",
    "\n",
    "Implementing the function `build_csv`.\n",
    "\n",
    "Here we will output the data to a CSV file which contains the following data for each \"name\" in the \"Experimental brood\" sheet:\n",
    "\n",
    "- name\n",
    "- sex\n",
    "- genotype\n",
    "- phenotype\n",
    "- wing perimeter\n",
    "- landmark 1 x, landmark 1 y, landmark 2 x, ..."
   ]
  },
  {
   "cell_type": "code",
   "execution_count": 7,
   "metadata": {},
   "outputs": [],
   "source": [
    "def build_csv(data, output_path):\n",
    "    \"\"\"\n",
    "    Build and write a CSV file\n",
    "    \n",
    "    Parameters\n",
    "    ----------\n",
    "    data : dictionary of list of lists\n",
    "        Data loaded from `load_data` function in Task 1 and modified in Task 2\n",
    "    output_path : str\n",
    "        Path to store CSV file to\n",
    "    \"\"\"\n",
    "    \n",
    "    # creating the header of the file\n",
    "    column_names = [\"name\"] # we write name because in the \"Experimental brood\" sheet, \"name\" column has one additional space\n",
    "    column_names.extend(data[\"Experimental brood\"][0][1:])\n",
    "    column_names.append(\"wing perimeter\")\n",
    "    column_names.extend(data[\"Landmark coordinates\"][0][1:])\n",
    "    # creating the body of the file\n",
    "    row_data = []\n",
    "    for items in data[\"Experimental brood\"][1:]:\n",
    "        row = []\n",
    "        # add items from \"Experimental brood\" sheet to the row list\n",
    "        row.extend(items)\n",
    "        # goto \"Wing perimeter\" sheet to get the wing perimeter\n",
    "        add_empty = True\n",
    "        for wing_items in data[\"Wing perimeter\"][1:]:\n",
    "            if str(int(items[0])) in wing_items[0]:\n",
    "                # add Perimeter to the row list\n",
    "                row.append(wing_items[2])\n",
    "                add_empty = False\n",
    "                break\n",
    "        # add empty cell to the row list\n",
    "        if add_empty:\n",
    "            row.append(\"\")\n",
    "        # goto \"Landmark coordinates\" to get the landmarks\n",
    "        add_empty = True\n",
    "        for landmark_items in data[\"Landmark coordinates\"][1:]:\n",
    "            if int(items[0]) == int(landmark_items[0]):\n",
    "                # add landmarks to the row list\n",
    "                row.extend(landmark_items[1:])\n",
    "                add_empty = False\n",
    "                break\n",
    "        # add empty list to the row list\n",
    "        if add_empty:\n",
    "            row.extend([\"\"] * 40) # 20 x + 20 y landmark coordinates = 40 empty cells\n",
    "        row_data.extend([row])\n",
    "\n",
    "    output = []\n",
    "    output.append(column_names)\n",
    "    output.extend(row_data)\n",
    "    \n",
    "    with open(output_path, \"w\") as file:\n",
    "        writer = csv.writer(file, delimiter=',', lineterminator='\\n')\n",
    "        writer.writerows(output)"
   ]
  },
  {
   "cell_type": "code",
   "execution_count": 8,
   "metadata": {},
   "outputs": [],
   "source": [
    "build_csv(DATA, \"wings.csv\")"
   ]
  }
 ],
 "metadata": {
  "kernelspec": {
   "display_name": "Python 3",
   "language": "python",
   "name": "python3"
  },
  "language_info": {
   "codemirror_mode": {
    "name": "ipython",
    "version": 3
   },
   "file_extension": ".py",
   "mimetype": "text/x-python",
   "name": "python",
   "nbconvert_exporter": "python",
   "pygments_lexer": "ipython3",
   "version": "3.7.6"
  }
 },
 "nbformat": 4,
 "nbformat_minor": 4
}
